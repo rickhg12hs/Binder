{
 "cells": [
  {
   "cell_type": "code",
   "execution_count": 1,
   "id": "3f7c2222-2b02-49ce-b73b-bb3214f0d8b7",
   "metadata": {},
   "outputs": [],
   "source": [
    "import numpy as np\n",
    "from sklearn.neural_network import MLPClassifier\n",
    "from sklearn.datasets import load_iris\n"
   ]
  },
  {
   "cell_type": "code",
   "execution_count": 2,
   "id": "4246c587-3013-4275-9948-32d7e2b705d0",
   "metadata": {},
   "outputs": [],
   "source": [
    "iris = load_iris()\n",
    "X = iris.data\n",
    "y = iris.target"
   ]
  },
  {
   "cell_type": "code",
   "execution_count": 3,
   "id": "7e8ec117-eccd-4b09-bcf6-33b4e78a6d8a",
   "metadata": {},
   "outputs": [
    {
     "data": {
      "text/plain": [
       "0.9866666666666667"
      ]
     },
     "execution_count": 3,
     "metadata": {},
     "output_type": "execute_result"
    }
   ],
   "source": [
    "cls_MLP = MLPClassifier(solver=\"lbfgs\", max_iter=1000)\n",
    "cls_MLP.fit(X,y)\n",
    "cls_MLP.score(X,y)"
   ]
  },
  {
   "cell_type": "code",
   "execution_count": 4,
   "id": "ce31eada-adf7-474f-9aa2-cea8e850f42b",
   "metadata": {
    "tags": []
   },
   "outputs": [
    {
     "data": {
      "text/plain": [
       "(['sepal length (cm)',\n",
       "  'sepal width (cm)',\n",
       "  'petal length (cm)',\n",
       "  'petal width (cm)'],\n",
       " array(['setosa', 'versicolor', 'virginica'], dtype='<U10'))"
      ]
     },
     "execution_count": 4,
     "metadata": {},
     "output_type": "execute_result"
    }
   ],
   "source": [
    "iris.feature_names, iris.target_names"
   ]
  },
  {
   "cell_type": "code",
   "execution_count": 5,
   "id": "31cacbcd-47c7-4b0d-8072-b59f89addb23",
   "metadata": {},
   "outputs": [
    {
     "data": {
      "text/plain": [
       "(array([4.3, 2. , 1. , 0.1]), array([7.9, 4.4, 6.9, 2.5]))"
      ]
     },
     "execution_count": 5,
     "metadata": {},
     "output_type": "execute_result"
    }
   ],
   "source": [
    "from scipy.stats import describe\n",
    "describe(X).minmax"
   ]
  },
  {
   "cell_type": "code",
   "execution_count": 6,
   "id": "e309a058-ca83-422a-9f10-478c19e23590",
   "metadata": {},
   "outputs": [],
   "source": [
    "from ipywidgets import interact, FloatSlider, Layout"
   ]
  },
  {
   "cell_type": "code",
   "execution_count": 7,
   "id": "0ce39822-bf08-4adc-9d2f-3099295b0d3e",
   "metadata": {},
   "outputs": [],
   "source": [
    "def get_prediction(sep_len, sep_wid, pet_len, pet_wid):\n",
    "    predict = iris.target_names[cls_MLP.predict(np.array([[sep_len, sep_wid, pet_len, pet_wid]]))][0]\n",
    "    return f\"Predicted iris: {predict}\""
   ]
  },
  {
   "cell_type": "code",
   "execution_count": 8,
   "id": "eab1feb5-adc4-4453-9ba0-dfd91427c7a7",
   "metadata": {},
   "outputs": [],
   "source": [
    "style = {\"description_width\": \"20%\"}\n",
    "sep_len = FloatSlider(min=4.0, max=8.0, value=6.0, step=0.1, description=\"sepal length (cm)\", layout=Layout(width=\"40%\"), style=style)\n",
    "sep_wid = FloatSlider(min=1.0, max=5.0, value=3.0, step=0.1, description=\"sepal width (cm)\", layout=Layout(width=\"40%\"), style=style)\n",
    "pet_len = FloatSlider(min=1.0, max=7.0, value=4.0, step=0.1, description=\"petal length (cm)\", layout=Layout(width=\"40%\"), style=style)\n",
    "pet_wid = FloatSlider(min=0.1, max=3.0, value=1.5, step=0.1, description=\"petal width (cm)\", layout=Layout(width=\"40%\"), style=style)"
   ]
  },
  {
   "cell_type": "code",
   "execution_count": 9,
   "id": "c7ec2bd3-ddec-4618-8ebc-1d622709327d",
   "metadata": {},
   "outputs": [
    {
     "data": {
      "application/vnd.jupyter.widget-view+json": {
       "model_id": "ba4c2f3b131b456c892e63e43c0d25c1",
       "version_major": 2,
       "version_minor": 0
      },
      "text/plain": [
       "interactive(children=(FloatSlider(value=6.0, description='sepal length (cm)', layout=Layout(width='40%'), max=…"
      ]
     },
     "metadata": {},
     "output_type": "display_data"
    }
   ],
   "source": [
    "im = interact(get_prediction, sep_len=sep_len, sep_wid=sep_wid, pet_len=pet_len, pet_wid=pet_wid)"
   ]
  },
  {
   "cell_type": "code",
   "execution_count": null,
   "id": "07b36079-51a8-41dc-a04c-556b65db2b41",
   "metadata": {},
   "outputs": [],
   "source": []
  }
 ],
 "metadata": {
  "kernelspec": {
   "display_name": "Python 3 (ipykernel)",
   "language": "python",
   "name": "python3"
  },
  "language_info": {
   "codemirror_mode": {
    "name": "ipython",
    "version": 3
   },
   "file_extension": ".py",
   "mimetype": "text/x-python",
   "name": "python",
   "nbconvert_exporter": "python",
   "pygments_lexer": "ipython3",
   "version": "3.7.12"
  }
 },
 "nbformat": 4,
 "nbformat_minor": 5
}
